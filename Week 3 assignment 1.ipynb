{
 "cells": [
  {
   "cell_type": "code",
   "execution_count": 1,
   "id": "9420f8c3-5be9-4c29-bf9d-4eab77f726d9",
   "metadata": {},
   "outputs": [],
   "source": [
    "#Question 1\n",
    "#ANs"
   ]
  },
  {
   "cell_type": "code",
   "execution_count": 2,
   "id": "e97c4258-d7f2-428c-ae64-4a1b5a55c796",
   "metadata": {},
   "outputs": [
    {
     "name": "stdout",
     "output_type": "stream",
     "text": [
      "[1, 3, 5, 7, 9, 11, 13, 15, 17, 19, 21, 23, 25]\n"
     ]
    }
   ],
   "source": [
    "#def keyword is used to create a function.\n",
    "lst = []\n",
    "for i in range(1,26):\n",
    "    lst.append(i)\n",
    "\n",
    "def odd(l):\n",
    "    l1 = []\n",
    "    for ele in l:\n",
    "        if ele%2 != 0:\n",
    "            l1.append(ele)\n",
    "    return l1\n",
    "print(odd(lst))"
   ]
  },
  {
   "cell_type": "code",
   "execution_count": 3,
   "id": "b1deea7d-0617-4e76-9190-b21d0fb4b735",
   "metadata": {},
   "outputs": [],
   "source": [
    "#Question 2\n",
    "#Ans"
   ]
  },
  {
   "cell_type": "code",
   "execution_count": 4,
   "id": "b7df55ae-2f35-4ca4-ba70-52fde4107bff",
   "metadata": {},
   "outputs": [
    {
     "name": "stdout",
     "output_type": "stream",
     "text": [
      "3\n",
      "6\n"
     ]
    }
   ],
   "source": [
    "# *args:- IT is used in some function to take n number of inputs.It gives tuple as a return type. Example:-\n",
    "def sum(*args):\n",
    "    s = 0\n",
    "    for ele in args:\n",
    "        s += ele\n",
    "    return s\n",
    "print(sum(1,2))\n",
    "print(sum(1,2,3))"
   ]
  },
  {
   "cell_type": "code",
   "execution_count": 5,
   "id": "8e6ac194-9b96-4059-915e-60811c0456b7",
   "metadata": {},
   "outputs": [
    {
     "name": "stdout",
     "output_type": "stream",
     "text": [
      "first_name is Ankit\n",
      "last_name is Kumawat\n"
     ]
    }
   ],
   "source": [
    "# **kwargs:- IT is used in some function when arguments is in key value pairs and it will return dict datatype. Example:-\n",
    "def name(**kwargs):\n",
    "    for key,value in kwargs.items():\n",
    "        print(f\"{key} is {value}\")\n",
    "name(first_name = \"Ankit\", last_name=\"Kumawat\")"
   ]
  },
  {
   "cell_type": "code",
   "execution_count": 6,
   "id": "f20d9647-efcb-4e27-a0d5-fc88307e6514",
   "metadata": {},
   "outputs": [],
   "source": [
    "#Question 3\n",
    "#Ans"
   ]
  },
  {
   "cell_type": "code",
   "execution_count": 7,
   "id": "0f31facb-31a1-48da-8fcb-95b74c41a6b8",
   "metadata": {},
   "outputs": [
    {
     "name": "stdout",
     "output_type": "stream",
     "text": [
      "2\n",
      "4\n",
      "6\n",
      "8\n",
      "10\n"
     ]
    }
   ],
   "source": [
    "#iterator:- It is used to iterate over iterable objects. It will iterate by using next() method.\n",
    "#We use the iter() method to convert our iterable object into itrator.\n",
    "#next() method is used for iterations.\n",
    "lst = [2,4,6,8,10,12,14,16,18,20]\n",
    "l = iter(lst)\n",
    "for i in range(5):\n",
    "    print(next(l))"
   ]
  },
  {
   "cell_type": "code",
   "execution_count": 8,
   "id": "0dbef193-9503-4518-90e5-843dd5f3f3c6",
   "metadata": {},
   "outputs": [],
   "source": [
    "#Question 4\n",
    "#Ans"
   ]
  },
  {
   "cell_type": "code",
   "execution_count": 9,
   "id": "16711fa8-daba-4537-aed0-ff0389b88dcb",
   "metadata": {},
   "outputs": [
    {
     "name": "stdout",
     "output_type": "stream",
     "text": [
      "1\n",
      "2\n",
      "6\n",
      "24\n",
      "120\n"
     ]
    }
   ],
   "source": [
    "#Generator function:- It will give us output one by one rather than first execute all method then return.\n",
    "#yield:- It is used to thorw the output.\n",
    "def fact(n):\n",
    "    f = 1\n",
    "    for i in range(1,n+1):\n",
    "        f = f*i\n",
    "        yield f\n",
    "\n",
    "for i in fact(5):\n",
    "    print(i)\n",
    "    "
   ]
  },
  {
   "cell_type": "code",
   "execution_count": 10,
   "id": "5f0a30bc-ee70-4290-a288-92f60b76678d",
   "metadata": {},
   "outputs": [
    {
     "name": "stdout",
     "output_type": "stream",
     "text": [
      "2\n",
      "3\n",
      "5\n",
      "7\n",
      "11\n",
      "13\n",
      "17\n",
      "19\n",
      "23\n",
      "29\n",
      "31\n",
      "37\n",
      "41\n",
      "43\n",
      "47\n",
      "53\n",
      "59\n",
      "61\n",
      "67\n",
      "71\n"
     ]
    }
   ],
   "source": [
    "#Question 5\n",
    "#Ans\n",
    "import sympy\n",
    "\n",
    "def prime():\n",
    "    lst = []\n",
    "    for i in range(1,1001):\n",
    "        if sympy.isprime(i):\n",
    "            yield i\n",
    "\n",
    "p = prime()\n",
    "\n",
    "for i in range(20):\n",
    "    print(next(p))\n",
    "        "
   ]
  },
  {
   "cell_type": "code",
   "execution_count": 11,
   "id": "e1a022d8-4e05-46f5-9c12-d0a59d99397b",
   "metadata": {},
   "outputs": [
    {
     "name": "stdout",
     "output_type": "stream",
     "text": [
      "0\n",
      "1\n",
      "1\n",
      "2\n",
      "3\n",
      "5\n",
      "8\n",
      "13\n",
      "21\n",
      "34\n"
     ]
    }
   ],
   "source": [
    "#Question 6\n",
    "#Ans\n",
    "t1 = 0\n",
    "t2 = 1\n",
    "i = 0\n",
    "while(i<10):\n",
    "    print(t1)\n",
    "    t1,t2 = t2,t1+t2\n",
    "    i = i+1"
   ]
  },
  {
   "cell_type": "code",
   "execution_count": 12,
   "id": "8caae6ca-5f75-4ba2-adc3-3baa48cb8b0d",
   "metadata": {},
   "outputs": [],
   "source": [
    "#Question 7\n",
    "#ans"
   ]
  },
  {
   "cell_type": "code",
   "execution_count": 13,
   "id": "b3fff5dd-bb19-4f25-a4fa-02bf866bf673",
   "metadata": {},
   "outputs": [
    {
     "data": {
      "text/plain": [
       "['p', 'w', 's', 'k', 'i', 'l', 'l', 's']"
      ]
     },
     "execution_count": 13,
     "metadata": {},
     "output_type": "execute_result"
    }
   ],
   "source": [
    "str = \"pwskills\"\n",
    "list(ch for ch in str)"
   ]
  },
  {
   "cell_type": "code",
   "execution_count": 14,
   "id": "b5566ad0-cced-42fc-b423-7af83aedbe53",
   "metadata": {},
   "outputs": [],
   "source": [
    "#Question 8\n",
    "#ans"
   ]
  },
  {
   "cell_type": "code",
   "execution_count": 15,
   "id": "e761bf1a-38ec-4a01-8cf3-2e15c780e95e",
   "metadata": {},
   "outputs": [
    {
     "name": "stdin",
     "output_type": "stream",
     "text": [
      "Enter your number:  12321\n"
     ]
    },
    {
     "name": "stdout",
     "output_type": "stream",
     "text": [
      "Palindrome\n"
     ]
    }
   ],
   "source": [
    "number = int(input(\"Enter your number: \"))\n",
    "original_number=number\n",
    "reverse =0\n",
    "while(number>0):\n",
    "    last_digit = number%10\n",
    "    reverse = reverse*10+last_digit\n",
    "    number //=10\n",
    "if original_number==reverse:\n",
    "    print(\"Palindrome\")\n",
    "else:\n",
    "    print(\"Not a palindrome\")"
   ]
  },
  {
   "cell_type": "code",
   "execution_count": 16,
   "id": "166f3609-1963-47b3-9ead-ec7809074b24",
   "metadata": {},
   "outputs": [],
   "source": [
    "#Question 9\n",
    "#Ans"
   ]
  },
  {
   "cell_type": "code",
   "execution_count": 17,
   "id": "3a4f4bba-f9a0-4003-9e19-1c4c70c4338a",
   "metadata": {},
   "outputs": [
    {
     "name": "stdout",
     "output_type": "stream",
     "text": [
      "[1, 3, 5, 7, 9, 11, 13, 15, 17, 19, 21, 23, 25, 27, 29, 31, 33, 35, 37, 39, 41, 43, 45, 47, 49, 51, 53, 55, 57, 59, 61, 63, 65, 67, 69, 71, 73, 75, 77, 79, 81, 83, 85, 87, 89, 91, 93, 95, 97, 99]\n"
     ]
    }
   ],
   "source": [
    "l = list(i for i in range(1,101))\n",
    "odd_list = list(ele for ele in l if ele%2 !=0)\n",
    "print(odd_list)"
   ]
  },
  {
   "cell_type": "code",
   "execution_count": null,
   "id": "285c3512-95ee-4e81-9aa8-6d59cf217ff4",
   "metadata": {},
   "outputs": [],
   "source": []
  }
 ],
 "metadata": {
  "kernelspec": {
   "display_name": "Python 3 (ipykernel)",
   "language": "python",
   "name": "python3"
  },
  "language_info": {
   "codemirror_mode": {
    "name": "ipython",
    "version": 3
   },
   "file_extension": ".py",
   "mimetype": "text/x-python",
   "name": "python",
   "nbconvert_exporter": "python",
   "pygments_lexer": "ipython3",
   "version": "3.10.8"
  }
 },
 "nbformat": 4,
 "nbformat_minor": 5
}
